{
 "cells": [
  {
   "cell_type": "code",
   "execution_count": null,
   "metadata": {},
   "outputs": [],
   "source": [
    "import torch\n",
    "import torch.nn.functional as F\n",
    "import numpy as np\n",
    "\n",
    "device = \"cuda\" if torch.cuda.is_available() else 'cpu'\n",
    "print(f\"Current device: {device}\")\n",
    "torch.set_default_device(device)\n",
    "\n",
    "!cp ../MIS.py ./\n",
    "!cp ../metric.py ./\n",
    "import MIS\n",
    "from MIS import task_config, run_psychophysics"
   ]
  },
  {
   "cell_type": "code",
   "execution_count": null,
   "metadata": {},
   "outputs": [],
   "source": [
    "from torchvision.datasets import CIFAR10\n",
    "\n",
    "train_CIFAR10 = CIFAR10(root=\"./\", download=True, train=True)\n",
    "CIFAR10_data = [data[0] for data in train_CIFAR10]\n",
    "del train_CIFAR10"
   ]
  },
  {
   "cell_type": "code",
   "execution_count": null,
   "metadata": {},
   "outputs": [],
   "source": [
    "activations_original = torch.load(\"example-activations.pt\", map_location=device, weights_only=True)\n",
    "neuron_axes = torch.load(\"example-axes.pt\", map_location=device, weights_only=True)\n",
    "activations_new = torch.t(torch.matmul(neuron_axes , torch.t(activations_original)) )\n",
    "\n",
    "CIFAR10_task_old = task_config(device, CIFAR10_data, activations_original)\n",
    "CIFAR10_task_new = task_config(device, CIFAR10_data, activations_new)"
   ]
  },
  {
   "cell_type": "code",
   "execution_count": null,
   "metadata": {},
   "outputs": [],
   "source": [
    "metric_type = \"dreamsim\"\n",
    "K = 9\n",
    "N = 100\n",
    "quantile = 0.25\n",
    "alpha=None\n",
    "\n",
    "MIS_old = run_psychophysics(CIFAR10_task_old, metric_type=metric_type, K=K, N=N, quantile=quantile, alpha=alpha)\n",
    "MIS_new = run_psychophysics(CIFAR10_task_new, metric_type=metric_type, K=K, N=N, quantile=quantile, alpha=alpha)"
   ]
  },
  {
   "cell_type": "code",
   "execution_count": null,
   "metadata": {},
   "outputs": [],
   "source": [
    "from matplotlib import pyplot as plt\n",
    "\n",
    "fig, ax = plt.subplots()\n",
    "ax.hist(MIS_old.detach().cpu().numpy(), bins=40, alpha=0.5, label=\"old\")\n",
    "ax.hist(MIS_new.detach().cpu().numpy(), bins=40, alpha=0.5, label=\"new\")\n",
    "ax.legend()\n",
    "ax.set_xlabel(\"MIS\")\n",
    "ax.set_ylabel(\"Frequency\")\n",
    "ax.set_title(f\"MIS Distribution for {metric_type} metric\")\n",
    "plt.show()\n"
   ]
  }
 ],
 "metadata": {
  "language_info": {
   "name": "python"
  }
 },
 "nbformat": 4,
 "nbformat_minor": 2
}
